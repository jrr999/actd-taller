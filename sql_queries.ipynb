{
 "cells": [
  {
   "cell_type": "markdown",
   "metadata": {},
   "source": [
    "## Recordando SQL \n",
    "\n",
    "En esta sesión buscamos recordar SQL empleando una base de datos en la nube (AWS RDS). \n",
    "\n",
    "Para empezar importe el paquete psycopg2 y conéctese a la base de datos remota a través del puerto 5432. \n"
   ]
  },
  {
   "cell_type": "code",
   "execution_count": null,
   "metadata": {},
   "outputs": [],
   "source": [
    "!conda install psycopg2"
   ]
  },
  {
   "cell_type": "code",
   "execution_count": 1,
   "metadata": {},
   "outputs": [],
   "source": [
    "import psycopg2"
   ]
  },
  {
   "cell_type": "code",
   "execution_count": 16,
   "metadata": {},
   "outputs": [],
   "source": [
    "engine = psycopg2.connect(\n",
    "    dbname=\"postgres\",\n",
    "    user=\"postgres\",\n",
    "    password=\"postgres\",\n",
    "    host=\"juanf.c2ejf18x6i7a.us-east-1.rds.amazonaws.com\",\n",
    "    port='5432'\n",
    ")"
   ]
  },
  {
   "cell_type": "markdown",
   "metadata": {},
   "source": [
    "Para ejecutar consultas debe crear un cursor sobre la conexión."
   ]
  },
  {
   "cell_type": "code",
   "execution_count": 17,
   "metadata": {},
   "outputs": [],
   "source": [
    "cursor = engine.cursor()"
   ]
  },
  {
   "cell_type": "markdown",
   "metadata": {},
   "source": [
    "La base de datos es comúnmente conocida como world y contiene 3 tablas: city, country y country_language. \n",
    "\n",
    "Los atributos de cada una de estas tablas es el siguiente:\n",
    "* city:\n",
    "  * (id, name, country_code, district, population)\n",
    "* country:\n",
    "  * (code, name, continent, region, surface_area. indep_year, population. life_expectancy, gnp, gnp_old, local_name, government_form, head_of_state, capital, code2)\n",
    "* country_language\n",
    "  * (country_code, language, is_official, percentage)\n",
    "\n",
    "Con esta información realicemos algunas consultas. Revisemos por ejemplos las primeras 5 filas de la tabla city\n"
   ]
  },
  {
   "cell_type": "code",
   "execution_count": 4,
   "metadata": {},
   "outputs": [
    {
     "data": {
      "text/plain": [
       "[(1, 'Kabul', 'AFG', 'Kabol', 1780000),\n",
       " (2, 'Qandahar', 'AFG', 'Qandahar', 237500),\n",
       " (3, 'Herat', 'AFG', 'Herat', 186800),\n",
       " (4, 'Mazar-e-Sharif', 'AFG', 'Balkh', 127800),\n",
       " (5, 'Amsterdam', 'NLD', 'Noord-Holland', 731200)]"
      ]
     },
     "execution_count": 4,
     "metadata": {},
     "output_type": "execute_result"
    }
   ],
   "source": [
    "query = \"select * from city limit 5\"\n",
    "cursor.execute(query)\n",
    "result = cursor.fetchall()\n",
    "result"
   ]
  },
  {
   "cell_type": "markdown",
   "metadata": {},
   "source": [
    "Note que el resultado se almacena en result al ejecutar fetchall(). Una forma alternativa de imprimir cada fila/registro resultado de la consulta es el siguiente"
   ]
  },
  {
   "cell_type": "code",
   "execution_count": 5,
   "metadata": {},
   "outputs": [
    {
     "name": "stdout",
     "output_type": "stream",
     "text": [
      "(1, 'Kabul', 'AFG', 'Kabol', 1780000)\n",
      "(2, 'Qandahar', 'AFG', 'Qandahar', 237500)\n",
      "(3, 'Herat', 'AFG', 'Herat', 186800)\n",
      "(4, 'Mazar-e-Sharif', 'AFG', 'Balkh', 127800)\n",
      "(5, 'Amsterdam', 'NLD', 'Noord-Holland', 731200)\n"
     ]
    }
   ],
   "source": [
    "for row in result:\n",
    "    print(row)"
   ]
  },
  {
   "cell_type": "markdown",
   "metadata": {},
   "source": [
    "Si en algún momento se genera un error, la conexión queda bloqueada con una transacción que no terminó. Para descartar la transacción actual y volver a intentar ejecute un commit sobre la conexión."
   ]
  },
  {
   "cell_type": "code",
   "execution_count": 22,
   "metadata": {},
   "outputs": [],
   "source": [
    "engine.commit()\n"
   ]
  },
  {
   "cell_type": "markdown",
   "metadata": {},
   "source": [
    "Contemos ahora el número de registros en cada tabla"
   ]
  },
  {
   "cell_type": "code",
   "execution_count": 7,
   "metadata": {},
   "outputs": [
    {
     "data": {
      "text/plain": [
       "[(4079,)]"
      ]
     },
     "execution_count": 7,
     "metadata": {},
     "output_type": "execute_result"
    }
   ],
   "source": [
    "query = \"select count(*) from city\"\n",
    "cursor.execute(query)\n",
    "result = cursor.fetchall()\n",
    "result"
   ]
  },
  {
   "cell_type": "code",
   "execution_count": 8,
   "metadata": {},
   "outputs": [
    {
     "data": {
      "text/plain": [
       "[(239,)]"
      ]
     },
     "execution_count": 8,
     "metadata": {},
     "output_type": "execute_result"
    }
   ],
   "source": [
    "query = \"select count(*) from country\"\n",
    "cursor.execute(query)\n",
    "result = cursor.fetchall()\n",
    "result"
   ]
  },
  {
   "cell_type": "code",
   "execution_count": 19,
   "metadata": {},
   "outputs": [
    {
     "data": {
      "text/plain": [
       "[(984,)]"
      ]
     },
     "execution_count": 19,
     "metadata": {},
     "output_type": "execute_result"
    }
   ],
   "source": [
    "query = \"select count(*) from country_language\"\n",
    "cursor.execute(query)\n",
    "result = cursor.fetchall()\n",
    "result"
   ]
  },
  {
   "cell_type": "markdown",
   "metadata": {},
   "source": [
    "Usando la tabla country, determinemos los continentes que aparecen en la tabla. "
   ]
  },
  {
   "cell_type": "code",
   "execution_count": 9,
   "metadata": {},
   "outputs": [
    {
     "data": {
      "text/plain": [
       "[('Asia',),\n",
       " ('South America',),\n",
       " ('North America',),\n",
       " ('Oceania',),\n",
       " ('Antarctica',),\n",
       " ('Africa',),\n",
       " ('Europe',)]"
      ]
     },
     "execution_count": 9,
     "metadata": {},
     "output_type": "execute_result"
    }
   ],
   "source": [
    "query = \"select distinct(continent) from country\"\n",
    "cursor.execute(query)\n",
    "result = cursor.fetchall()\n",
    "result"
   ]
  },
  {
   "cell_type": "markdown",
   "metadata": {},
   "source": [
    "Fijémonos en el continente Europe y listemos los nombres y códigos de los países en este continente. "
   ]
  },
  {
   "cell_type": "code",
   "execution_count": 22,
   "metadata": {},
   "outputs": [
    {
     "data": {
      "text/plain": [
       "[('NLD', 'Netherlands'),\n",
       " ('ALB', 'Albania'),\n",
       " ('AND', 'Andorra'),\n",
       " ('BEL', 'Belgium'),\n",
       " ('BIH', 'Bosnia and Herzegovina'),\n",
       " ('GBR', 'United Kingdom'),\n",
       " ('BGR', 'Bulgaria'),\n",
       " ('ESP', 'Spain'),\n",
       " ('FRO', 'Faroe Islands'),\n",
       " ('GIB', 'Gibraltar'),\n",
       " ('SJM', 'Svalbard and Jan Mayen'),\n",
       " ('IRL', 'Ireland'),\n",
       " ('ISL', 'Iceland'),\n",
       " ('ITA', 'Italy'),\n",
       " ('AUT', 'Austria'),\n",
       " ('YUG', 'Yugoslavia'),\n",
       " ('GRC', 'Greece'),\n",
       " ('HRV', 'Croatia'),\n",
       " ('LVA', 'Latvia'),\n",
       " ('LIE', 'Liechtenstein'),\n",
       " ('LTU', 'Lithuania'),\n",
       " ('LUX', 'Luxembourg'),\n",
       " ('MKD', 'Macedonia'),\n",
       " ('MLT', 'Malta'),\n",
       " ('MDA', 'Moldova'),\n",
       " ('MCO', 'Monaco'),\n",
       " ('NOR', 'Norway'),\n",
       " ('PRT', 'Portugal'),\n",
       " ('POL', 'Poland'),\n",
       " ('FRA', 'France'),\n",
       " ('ROM', 'Romania'),\n",
       " ('SWE', 'Sweden'),\n",
       " ('DEU', 'Germany'),\n",
       " ('SMR', 'San Marino'),\n",
       " ('SVK', 'Slovakia'),\n",
       " ('SVN', 'Slovenia'),\n",
       " ('FIN', 'Finland'),\n",
       " ('CHE', 'Switzerland'),\n",
       " ('DNK', 'Denmark'),\n",
       " ('CZE', 'Czech Republic'),\n",
       " ('UKR', 'Ukraine'),\n",
       " ('HUN', 'Hungary'),\n",
       " ('BLR', 'Belarus'),\n",
       " ('VAT', 'Holy See (Vatican City State)'),\n",
       " ('RUS', 'Russian Federation'),\n",
       " ('EST', 'Estonia')]"
      ]
     },
     "execution_count": 22,
     "metadata": {},
     "output_type": "execute_result"
    }
   ],
   "source": [
    "query = \"select code, name from country where continent='Europe'\"\n",
    "cursor.execute(query)\n",
    "result = cursor.fetchall()\n",
    "result"
   ]
  },
  {
   "cell_type": "markdown",
   "metadata": {},
   "source": [
    "Determine los 5 países con mayor población de Europa. "
   ]
  },
  {
   "cell_type": "code",
   "execution_count": 23,
   "metadata": {},
   "outputs": [
    {
     "data": {
      "text/plain": [
       "[('Russian Federation', 146934000),\n",
       " ('Germany', 82164700),\n",
       " ('United Kingdom', 59623400),\n",
       " ('France', 59225700),\n",
       " ('Italy', 57680000)]"
      ]
     },
     "execution_count": 23,
     "metadata": {},
     "output_type": "execute_result"
    }
   ],
   "source": [
    "query = \"\"\"\n",
    "select name, population  from country \n",
    "where continent='Europe'  \n",
    "order by population\n",
    "desc\n",
    "limit 5\"\"\"\n",
    "cursor.execute(query)\n",
    "result = cursor.fetchall()\n",
    "result"
   ]
  },
  {
   "cell_type": "code",
   "execution_count": 30,
   "metadata": {},
   "outputs": [],
   "source": [
    "engine.commit()"
   ]
  },
  {
   "cell_type": "markdown",
   "metadata": {},
   "source": [
    "Determine la población promedio de Europa."
   ]
  },
  {
   "cell_type": "code",
   "execution_count": 11,
   "metadata": {},
   "outputs": [
    {
     "data": {
      "text/plain": [
       "[(Decimal('15871186.956521739130'),)]"
      ]
     },
     "execution_count": 11,
     "metadata": {},
     "output_type": "execute_result"
    }
   ],
   "source": [
    "query = \"\"\"\n",
    "select avg(population) from country \n",
    "where continent='Europe'  \n",
    "\"\"\"\n",
    "cursor.execute(query)\n",
    "result = cursor.fetchall()\n",
    "result"
   ]
  },
  {
   "cell_type": "markdown",
   "metadata": {},
   "source": [
    "Liste los países que tienen un población superior al promedio del continente. Para cada país incluya nombre y población."
   ]
  },
  {
   "cell_type": "code",
   "execution_count": 31,
   "metadata": {},
   "outputs": [
    {
     "data": {
      "text/plain": [
       "[('Russian Federation', 146934000),\n",
       " ('Germany', 82164700),\n",
       " ('United Kingdom', 59623400),\n",
       " ('France', 59225700),\n",
       " ('Italy', 57680000),\n",
       " ('Ukraine', 50456000),\n",
       " ('Spain', 39441700),\n",
       " ('Poland', 38653600),\n",
       " ('Romania', 22455500)]"
      ]
     },
     "execution_count": 31,
     "metadata": {},
     "output_type": "execute_result"
    }
   ],
   "source": [
    "query = \"\"\"\n",
    "select name, population from\n",
    "country \n",
    "where continent='Europe' and \n",
    "population >\n",
    "(\n",
    " select avg(population) from country \n",
    " where continent='Europe' \n",
    ") \n",
    "order by population\n",
    "desc\n",
    "\"\"\"\n",
    "cursor.execute(query)\n",
    "result = cursor.fetchall()\n",
    "result"
   ]
  },
  {
   "cell_type": "markdown",
   "metadata": {},
   "source": [
    "Determine los tipos de gobierno existentes en Europa."
   ]
  },
  {
   "cell_type": "code",
   "execution_count": 32,
   "metadata": {},
   "outputs": [
    {
     "data": {
      "text/plain": [
       "[('Republic',),\n",
       " ('Dependent Territory of Norway',),\n",
       " ('Parliamentary Coprincipality',),\n",
       " ('Part of Denmark',),\n",
       " ('Constitutional Monarchy',),\n",
       " ('Federal Republic',),\n",
       " ('Constitutional Monarchy, Federation',),\n",
       " ('Dependent Territory of the UK',),\n",
       " ('Independent Church State',),\n",
       " ('Federation',)]"
      ]
     },
     "execution_count": 32,
     "metadata": {},
     "output_type": "execute_result"
    }
   ],
   "source": [
    "query = \"\"\"\n",
    "select distinct(government_form) from country\n",
    "where continent = 'Europe'\n",
    "\"\"\"\n",
    "cursor.execute(query)\n",
    "result = cursor.fetchall()\n",
    "result\n"
   ]
  },
  {
   "cell_type": "markdown",
   "metadata": {},
   "source": [
    "Determine los países europeos que tienen un tipo de gobierno entre los tres más comunes en el continente. Para cada país incluya nombre y población. "
   ]
  },
  {
   "cell_type": "code",
   "execution_count": 34,
   "metadata": {},
   "outputs": [
    {
     "data": {
      "text/plain": [
       "[('Russian Federation', 146934000),\n",
       " ('Germany', 82164700),\n",
       " ('United Kingdom', 59623400),\n",
       " ('France', 59225700),\n",
       " ('Italy', 57680000),\n",
       " ('Ukraine', 50456000),\n",
       " ('Spain', 39441700),\n",
       " ('Poland', 38653600),\n",
       " ('Romania', 22455500),\n",
       " ('Netherlands', 15864000),\n",
       " ('Yugoslavia', 10640000),\n",
       " ('Greece', 10545700),\n",
       " ('Czech Republic', 10278100),\n",
       " ('Belarus', 10236000),\n",
       " ('Hungary', 10043200),\n",
       " ('Portugal', 9997600),\n",
       " ('Sweden', 8861400),\n",
       " ('Bulgaria', 8190900),\n",
       " ('Austria', 8091800),\n",
       " ('Slovakia', 5398700),\n",
       " ('Denmark', 5330000),\n",
       " ('Finland', 5171300),\n",
       " ('Norway', 4478500),\n",
       " ('Croatia', 4473000),\n",
       " ('Moldova', 4380000),\n",
       " ('Bosnia and Herzegovina', 3972000),\n",
       " ('Ireland', 3775100),\n",
       " ('Lithuania', 3698500),\n",
       " ('Albania', 3401200),\n",
       " ('Latvia', 2424200),\n",
       " ('Macedonia', 2024000),\n",
       " ('Slovenia', 1987800),\n",
       " ('Estonia', 1439200),\n",
       " ('Luxembourg', 435700),\n",
       " ('Malta', 380200),\n",
       " ('Iceland', 279000),\n",
       " ('Monaco', 34000),\n",
       " ('Liechtenstein', 32300),\n",
       " ('San Marino', 27000)]"
      ]
     },
     "execution_count": 34,
     "metadata": {},
     "output_type": "execute_result"
    }
   ],
   "source": [
    "query = \"\"\"\n",
    "WITH A AS \n",
    "(select government_form, count(government_form) as num_paises from country\n",
    " where continent = 'Europe'\n",
    " group by government_form\n",
    " order by num_paises\n",
    " desc\n",
    " limit 3\n",
    ")\n",
    "select name, population\n",
    "from country inner join A on \n",
    "country.government_form = A.government_form\n",
    "where continent = 'Europe'\n",
    "order by population\n",
    "desc\n",
    "\"\"\"\n",
    "cursor.execute(query)\n",
    "result = cursor.fetchall()\n",
    "result\n"
   ]
  },
  {
   "cell_type": "markdown",
   "metadata": {},
   "source": [
    "Liste cada país con su capital, población total, población de la capital y fracción de población que vive en la capital. Reporte el top 20 de los países con mayor y menor fracción de población en la capital. Por motivos de legibilidad, se espera que la fracción se muestre como un número con 4 posiciones decimales. \n",
    "\n",
    "Considere el uso de CAST AS y ROUND. "
   ]
  },
  {
   "cell_type": "code",
   "execution_count": 34,
   "metadata": {},
   "outputs": [
    {
     "data": {
      "text/plain": [
       "[('Singapore', 'Singapore', 3567000, 4017733, Decimal('1.1264')),\n",
       " ('Gibraltar', 'Gibraltar', 25000, 27025, Decimal('1.0810')),\n",
       " ('Macao', 'Macao', 473000, 437500, Decimal('0.9249')),\n",
       " ('Pitcairn', 'Adamstown', 50, 42, Decimal('0.8400')),\n",
       " ('Saint Pierre and Miquelon', 'Saint-Pierre', 7000, 5808, Decimal('0.8297')),\n",
       " ('Falkland Islands', 'Stanley', 2000, 1636, Decimal('0.8180')),\n",
       " ('Palau', 'Koror', 19000, 12000, Decimal('0.6316')),\n",
       " ('Djibouti', 'Djibouti', 638000, 383000, Decimal('0.6003')),\n",
       " ('Cook Islands', 'Avarua', 20000, 11900, Decimal('0.5950')),\n",
       " ('Qatar', 'Doha', 599000, 355000, Decimal('0.5927')),\n",
       " ('Western Sahara', 'El-Aaiún', 293000, 169000, Decimal('0.5768')),\n",
       " ('Bahamas', 'Nassau', 307000, 172000, Decimal('0.5603')),\n",
       " ('Seychelles', 'Victoria', 77000, 41000, Decimal('0.5325')),\n",
       " ('Cayman Islands', 'George Town', 38000, 19600, Decimal('0.5158')),\n",
       " ('Holy See (Vatican City State)',\n",
       "  'Città del Vaticano',\n",
       "  1000,\n",
       "  455,\n",
       "  Decimal('0.4550')),\n",
       " ('Svalbard and Jan Mayen', 'Longyearbyen', 3200, 1438, Decimal('0.4494')),\n",
       " ('Marshall Islands', 'Dalap-Uliga-Darrit', 64000, 28000, Decimal('0.4375')),\n",
       " ('Norfolk Island', 'Kingston', 2000, 800, Decimal('0.4000')),\n",
       " ('Iceland', 'Reykjavík', 279000, 109184, Decimal('0.3913')),\n",
       " ('Tuvalu', 'Funafuti', 12000, 4600, Decimal('0.3833')),\n",
       " ('Bermuda', 'Hamilton', 65000, 1200, Decimal('0.0185')),\n",
       " ('Vietnam', 'Hanoi', 79832000, 1410000, Decimal('0.0177')),\n",
       " ('Australia', 'Canberra', 18886000, 322723, Decimal('0.0171')),\n",
       " ('Switzerland', 'Bern', 7160400, 122700, Decimal('0.0171')),\n",
       " ('South Africa', 'Pretoria', 40377000, 658630, Decimal('0.0163')),\n",
       " ('Saint Lucia', 'Castries', 154000, 2301, Decimal('0.0149')),\n",
       " ('Kuwait', 'Kuwait', 1972000, 28859, Decimal('0.0146')),\n",
       " ('Belgium', 'Bruxelles [Brussel]', 10239000, 133859, Decimal('0.0131')),\n",
       " ('Brazil', 'Brasília', 170115000, 1969868, Decimal('0.0116')),\n",
       " ('Canada', 'Ottawa', 31147000, 335277, Decimal('0.0108')),\n",
       " ('Netherlands Antilles', 'Willemstad', 217000, 2345, Decimal('0.0108')),\n",
       " ('Bhutan', 'Thimphu', 2124000, 22000, Decimal('0.0104')),\n",
       " ('Côte d\\x92Ivoire', 'Yamoussoukro', 14786000, 130000, Decimal('0.0088')),\n",
       " ('Guam', 'Agaña', 168000, 1139, Decimal('0.0068')),\n",
       " ('China', 'Peking', 1277558000, 7472000, Decimal('0.0058')),\n",
       " ('Tanzania', 'Dodoma', 33517000, 189000, Decimal('0.0056')),\n",
       " ('Pakistan', 'Islamabad', 156483000, 524500, Decimal('0.0034')),\n",
       " ('Nigeria', 'Abuja', 111506000, 350100, Decimal('0.0031')),\n",
       " ('United States', 'Washington', 278357000, 572059, Decimal('0.0021')),\n",
       " ('India', 'New Delhi', 1013662000, 301297, Decimal('0.0003'))]"
      ]
     },
     "execution_count": 34,
     "metadata": {},
     "output_type": "execute_result"
    }
   ],
   "source": [
    "query = \"\"\"\n",
    "\n",
    "WITH A AS\n",
    "(select name, population, capital\n",
    "from country)\n",
    "\n",
    "(select A.name, city.name, A.population, city.population, round(city.population/ CAST(A.population as numeric),4) as fraccion\n",
    "from city inner join A on\n",
    "city.id = A.capital\n",
    "order by fraccion\n",
    "desc\n",
    "limit 20)\n",
    "union\n",
    "\n",
    "((select A.name, city.name, A.population, city.population, round(city.population/ CAST(A.population as numeric),4) as fraccion\n",
    "from city inner join A on\n",
    "city.id = A.capital\n",
    "order by fraccion\n",
    "asc\n",
    "limit 20))\n",
    "\n",
    "order by fraccion\n",
    "desc\n",
    "\n",
    "\n",
    "\"\"\"\n",
    "cursor.execute(query)\n",
    "result = cursor.fetchall()\n",
    "result\n",
    "\n"
   ]
  },
  {
   "cell_type": "markdown",
   "metadata": {},
   "source": [
    "Genere una lista de los países que hablan inglés como idioma oficial. Para cada país cuyo idioma oficial es el inglés, liste la fracción de la población que habla inglés y ordene de acuerdo de menor a mayor. "
   ]
  }
 ],
 "metadata": {
  "kernelspec": {
   "display_name": "Python 3",
   "language": "python",
   "name": "python3"
  },
  "language_info": {
   "codemirror_mode": {
    "name": "ipython",
    "version": 3
   },
   "file_extension": ".py",
   "mimetype": "text/x-python",
   "name": "python",
   "nbconvert_exporter": "python",
   "pygments_lexer": "ipython3",
   "version": "3.8.8"
  },
  "vscode": {
   "interpreter": {
    "hash": "c0b1841c3a9ede5f0df38ef74fe84e5ae0b003950945172f1b507ff85d6c4a6c"
   }
  }
 },
 "nbformat": 4,
 "nbformat_minor": 2
}
